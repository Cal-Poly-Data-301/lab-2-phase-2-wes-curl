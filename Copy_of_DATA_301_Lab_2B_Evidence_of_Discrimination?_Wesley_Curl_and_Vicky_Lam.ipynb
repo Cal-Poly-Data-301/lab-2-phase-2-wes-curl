{
  "nbformat": 4,
  "nbformat_minor": 0,
  "metadata": {
    "kernelspec": {
      "display_name": "Python 3",
      "language": "python",
      "name": "python3"
    },
    "language_info": {
      "codemirror_mode": {
        "name": "ipython",
        "version": 3
      },
      "file_extension": ".py",
      "mimetype": "text/x-python",
      "name": "python",
      "nbconvert_exporter": "python",
      "pygments_lexer": "ipython3",
      "version": "3.6.4"
    },
    "colab": {
      "name": "Copy of DATA 301 Lab 2B. Evidence of Discrimination? - Wesley Curl and Vicky Lam",
      "provenance": [],
      "collapsed_sections": [],
      "include_colab_link": true
    }
  },
  "cells": [
    {
      "cell_type": "markdown",
      "metadata": {
        "id": "view-in-github",
        "colab_type": "text"
      },
      "source": [
        "<a href=\"https://colab.research.google.com/github/wes-curl/lab-2-phase-2-wes-curl/blob/main/Copy_of_DATA_301_Lab_2B_Evidence_of_Discrimination%3F_Wesley_Curl_and_Vicky_Lam.ipynb\" target=\"_parent\"><img src=\"https://colab.research.google.com/assets/colab-badge.svg\" alt=\"Open In Colab\"/></a>"
      ]
    },
    {
      "cell_type": "markdown",
      "metadata": {
        "id": "3GRr9ej57rEW"
      },
      "source": [
        "# Evidence of Discrimination?\n",
        "\n",
        "The Department of Developmental Services (DDS) in California is responsible for allocating funds to support over 250,000 developmentally-disabled residents. The data set `https://dlsun.github.io/pods/data/ca_dds_expenditures.csv` contains data about 1,000 of these residents. The data comes from a discrimination lawsuit which alleged that California's Department of Developmental Services (DDS) privileged white (non-Hispanic) residents over Hispanic residents in allocating funds. We will focus on comparing the allocation of funds (i.e., expenditures) for these two ethnicities only, although there are other ethnicities in this data set.\n",
        "\n",
        "There are 6 variables in this data set:\n",
        "\n",
        "- Id:  5-digit, unique identification code for each consumer (similar to a social security number and used for identification purposes)  \n",
        "- Age Cohort:  Binned age variable represented as six age cohorts (0-5, 6-12, 13-17, 18-21, 22-50, and 51+)\n",
        "- Age:  Unbinned age variable\n",
        "- Gender:  Male or Female\n",
        "- Expenditures:  Dollar amount of annual expenditures spent on each consumer\n",
        "- Ethnicity:  Eight ethnic groups (American Indian, Asian, Black, Hispanic, Multi-race, Native Hawaiian, Other, and White non-Hispanic)"
      ]
    },
    {
      "cell_type": "markdown",
      "metadata": {
        "id": "pBrvxdVd7rEY"
      },
      "source": [
        "# Question 1\n",
        "\n",
        "Read in the data set. Make a graphic that compares the _average_ expenditures by the DDS on Hispanic residents and white (non-Hispanic) residents. Comment on what you see."
      ]
    },
    {
      "cell_type": "code",
      "metadata": {
        "id": "HPu1DTOY7rEa",
        "colab": {
          "base_uri": "https://localhost:8080/",
          "height": 382
        },
        "outputId": "89cfcf82-2800-42aa-cfbd-7958607f5b47"
      },
      "source": [
        "import pandas as pd\n",
        "\n",
        "location = \"https://dlsun.github.io/pods/data/\"\n",
        "df_dds = pd.read_csv(location + \"ca_dds_expenditures.csv\")\n",
        "\n",
        "df_white = df_dds[df_dds[\"Ethnicity\"] == \"White not Hispanic\"]\n",
        "df_hispanic = df_dds[df_dds[\"Ethnicity\"] == \"Hispanic\"]\n",
        "\n",
        "df_dds_white_and_hispanic = df_white.append(df_hispanic)\n",
        "\n",
        "df_dds_white_and_hispanic.groupby([\"Ethnicity\"])[\"Expenditures\"].mean().plot.bar()"
      ],
      "execution_count": 1,
      "outputs": [
        {
          "output_type": "execute_result",
          "data": {
            "text/plain": [
              "<matplotlib.axes._subplots.AxesSubplot at 0x7fca9cdf5550>"
            ]
          },
          "metadata": {},
          "execution_count": 1
        },
        {
          "output_type": "display_data",
          "data": {
            "image/png": "[encoded data removed]",
            "text/plain": [
              "<Figure size 432x288 with 1 Axes>"
            ]
          },
          "metadata": {
            "needs_background": "light"
          }
        }
      ]
    },
    {
      "cell_type": "markdown",
      "metadata": {
        "id": "FvfRcog37rEf"
      },
      "source": [
        "It appears that White (not Hispanic) students received just short of \\$25K on average, while Hispanic students recieved a little more than \\$10K on average."
      ]
    },
    {
      "cell_type": "markdown",
      "metadata": {
        "id": "CmxE7M3o7rEg"
      },
      "source": [
        "# Question 2\n",
        "\n",
        "Now, calculate the average expenditures by ethnicity and age cohort. Make a graphic that compares the average expenditure on Hispanic residents and white (non-Hispanic) residents, _within each age cohort_. \n",
        "\n",
        "Comment on what you see. How do these results appear to contradict the results you obtained in Question 1?"
      ]
    },
    {
      "cell_type": "code",
      "metadata": {
        "id": "u_J1LRI37rEh",
        "colab": {
          "base_uri": "https://localhost:8080/",
          "height": 436
        },
        "outputId": "3aaf4b80-c095-45d4-e5e4-55235d4e1285"
      },
      "source": [
        "df_dds_white_and_hispanic.groupby([\"Ethnicity\", \"Age Cohort\"])[\"Expenditures\"].mean().plot.bar()"
      ],
      "execution_count": 2,
      "outputs": [
        {
          "output_type": "execute_result",
          "data": {
            "text/plain": [
              "<matplotlib.axes._subplots.AxesSubplot at 0x7fca9cd5bb90>"
            ]
          },
          "metadata": {},
          "execution_count": 2
        },
        {
          "output_type": "display_data",
          "data": {
            "image/png": "[encoded data removed]",
            "text/plain": [
              "<Figure size 432x288 with 1 Axes>"
            ]
          },
          "metadata": {
            "needs_background": "light"
          }
        }
      ]
    },
    {
      "cell_type": "markdown",
      "metadata": {
        "id": "CFriAmRB7rEl"
      },
      "source": [
        "Oddly, it appears that funding by age for both groups is near identical! Each cohort seems to get nearly the same funding, regardless of race. White students in the 51+ category seem to actually recieve less than their Hispanic counterparts!"
      ]
    },
    {
      "cell_type": "markdown",
      "metadata": {
        "id": "vNJHIPO77rEm"
      },
      "source": [
        "# Question 3\n",
        "\n",
        "Can you explain the discrepancy between the two analyses you conducted above (i.e., Questions 1 and 2)? Try to tell a complete story that interweaves tables, graphics, and explanation.\n",
        "\n",
        "_Hint:_ You might want to consider looking at:\n",
        "\n",
        "- the distributions of ages of Hispanics and whites\n",
        "- the average expenditure as a function of age"
      ]
    },
    {
      "cell_type": "code",
      "metadata": {
        "id": "mo4aLinP7rEn",
        "colab": {
          "base_uri": "https://localhost:8080/",
          "height": 328
        },
        "outputId": "df353c01-08ef-4e6b-c27d-dec8286398ac"
      },
      "source": [
        "df_dds_white_and_hispanic.groupby([\"Ethnicity\", \"Age Cohort\"], sort=True)[\"Id\"].count().unstack(\"Ethnicity\").loc[[\"0 to 5\",\"6 to 12\",\"13 to 17\",\"18 to 21\",\"22 to 50\",\"51+\"]].plot.bar()"
      ],
      "execution_count": 3,
      "outputs": [
        {
          "output_type": "execute_result",
          "data": {
            "text/plain": [
              "<matplotlib.axes._subplots.AxesSubplot at 0x7fca9c81fb50>"
            ]
          },
          "metadata": {},
          "execution_count": 3
        },
        {
          "output_type": "display_data",
          "data": {
            "image/png": "[encoded data removed]",
            "text/plain": [
              "<Figure size 432x288 with 1 Axes>"
            ]
          },
          "metadata": {
            "needs_background": "light"
          }
        }
      ]
    },
    {
      "cell_type": "markdown",
      "metadata": {
        "id": "dmdJ1RTp7rEq"
      },
      "source": [
        "The first thing to look at is the age of each ethnicity. The distribution of Hispanics among the age cohorts is left-skewed, that is, Hispanics in the study tend to be younger. Their largest group is in the 13-17 range. The distribution of non-hispanic Caucasians is right skewed, with their largest category being the 22-50 range."
      ]
    },
    {
      "cell_type": "code",
      "source": [
        "df_dds_white_and_hispanic.groupby([\"Age Cohort\"])[\"Expenditures\"].mean().loc[[\"0 to 5\",\"6 to 12\",\"13 to 17\",\"18 to 21\",\"22 to 50\",\"51+\"]].plot.bar()"
      ],
      "metadata": {
        "colab": {
          "base_uri": "https://localhost:8080/",
          "height": 328
        },
        "id": "VU1M8y9Tt7Sr",
        "outputId": "d4861429-35ac-495d-8593-c1b22d88f6ce"
      },
      "execution_count": 4,
      "outputs": [
        {
          "output_type": "execute_result",
          "data": {
            "text/plain": [
              "<matplotlib.axes._subplots.AxesSubplot at 0x7fca9c7ccf90>"
            ]
          },
          "metadata": {},
          "execution_count": 4
        },
        {
          "output_type": "display_data",
          "data": {
            "image/png": "[encoded data removed]",
            "text/plain": [
              "<Figure size 432x288 with 1 Axes>"
            ]
          },
          "metadata": {
            "needs_background": "light"
          }
        }
      ]
    },
    {
      "cell_type": "markdown",
      "source": [
        "Notably, as people get older, the average expenditure on them grows. This especially accelerates at the 22 to 50 age cohort—the largest cohort among non-Hispanic Caucasians! </br> \n",
        "As people get older, the expenditures on them get larger, and as non-hispanic Caucasians tend to be older, their expenditures thusly tend to be larger. This explains the discrepency: the first plot did not adjust for age cohort size, and simply found that net spending on Hispanics was lower. The second plot demonstrates that, adjusting for age cohort, expenditures on the two groups are equal."
      ],
      "metadata": {
        "id": "3e3e2ODxuHuQ"
      }
    },
    {
      "cell_type": "markdown",
      "metadata": {
        "id": "4JdcqKm57rEr"
      },
      "source": [
        "## Submission Instructions\n",
        "\n",
        "- Copy this notebook to your own Drive, if you have not already.\n",
        "- Restart this notebook and run the cells from beginning to end. \n",
        "  - Go to Runtime > Restart and Run All.\n",
        "- Rename this notebook by clicking on \"DATA 301 Lab 2B - YOUR NAME HERE\" at the very top of this page. Replace \"YOUR NAMES HERE\" with the first and last names of you (and your partners, for Phase 2).\n",
        "- Get the link to your notebook:\n",
        "  - Click on \"Share\" at the top-right. \n",
        "  - Change the settings to \"Anyone with the link can view\". \n",
        "  - Copy the sharing link into Canvas."
      ]
    }
  ]
}